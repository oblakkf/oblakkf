{
 "cells": [
  {
   "cell_type": "markdown",
   "metadata": {},
   "source": [
    "# Uvod u neuronske mreže\n",
    "\n",
    "U mašinskom učenju, (veštačka) neuronska mreža nastala je model inspirisan biološkim neuronom. Model neurona je pojednostavljenje pravog biološkog neurona.\n",
    "Neuronska mreža sastoji se od različitih gradivnih jedinica koje ćemo predstaviti u nastavku. Cilj ove lekcije je da razumemo osnovne gradivne jedinice neuronske mreže, razumemo širu sliku i steknemo intuiciju kako neuronske mreže funkcionišu.\n",
    "\n",
    "Pogledaćemo perceptron (neuron), grupu perceptrona (neuronska mreža), funkciju gubitka (*loss* funkcija), i kako treniramo model.\n",
    "\n",
    "Neuronsku mrežu koristimo da rešimo različite probleme, kao što su na primer problemi klasifikacije i regresije.\n",
    "\n",
    "Za detaljniji teorijski pristup, pogledajte materijale sa predavanja."
   ]
  },
  {
   "cell_type": "markdown",
   "metadata": {},
   "source": [
    "<img style=\"float:right; max-width:300px\" src=\"imgs/neuron_model.jpeg\" width=\"60%\" />\n",
    "\n",
    "## Neuron (perceptron)\n",
    "Na slici je predstavljen model neurona (jedan neuron; još se zove i perceptron).\n",
    "Neuron je osnovna gradivna jedinica neuronske mreže.\n",
    "\n",
    "Osnovni model veštačkog neurona čine:\n",
    "- n ulaza, \n",
    "- bias, \n",
    "- težine, \n",
    "- sabirač, \n",
    "- aktivaciona funkcija."
   ]
  },
  {
   "cell_type": "markdown",
   "metadata": {},
   "source": [
    "<img style=\"float:right; max-width:300px\" src=\"imgs/layer.png\" width=\"60%\" />\n",
    "\n",
    "## Sloj neurona\n",
    "Neuroni se (običnu) grupišu u sloj neurona. Ne mora biti samo jedan sloj već ih može biti više (što je i praksa). Više slojeva neurona formira duboku neuronsku mrežu.\n",
    "Svaki neuron povezan je sa neuronom iz sledećeg sloja. \"Povezanost\" neurona znači da izlaz iz jednog neurona, predstavlja ulaz u neurone iz sledećeg sloja.\n",
    "\n",
    "\n",
    "Napomena: u praksi postoje razne modifikacije modela neurona i neuronskim mreža tako da su neuroni iz različitih slojeva povezani. "
   ]
  },
  {
   "cell_type": "markdown",
   "metadata": {},
   "source": [
    "## *Loss* funkcija\n",
    "Funkcija gubitka (loss funkcija) služi da izmerimo koliko neki model (konkretno neuronska mreža) greši? \n",
    "Ova funkcija odgovara na pitanje: koliko je prediktovana vrednost (izlaz iz neuronske mreže) daleko od prave vrednosti?\n",
    "\n",
    "Izlaz iz *loss* funkcije je realan broj.\n",
    "\n",
    "Primer:\n",
    "- Regresija: prediktujemo cene kuća i često pogrešimo u predikciji za veliku svota novca. Tada *loss* funkcija daje velik broj na izlazu. S obzirom da želimo da napravimo što bolji model i da što bolje prediktujemo, cilj je da napravimo takvu neuronsku mrežu koja će da ima mali *loss*.\n",
    "- Klasifikacija: prediktujemo da li se na slici nalazi mačka ili pas. Ako često grešimo (na primer, na slici je pas, a neuronska mreža predviđa da je na slici mačka), tada će izlaz iz *loss* funkcije biti velik broj. Opet, cilj je da napravimo neuronsku mrežu koja ima najmanju vrednost *loss* funkcije.\n",
    "\n",
    "Pitanje: Kako ćemo napraviti neuronsku mrežu koja ima najmanju vrednost *loss* funkcije? Šta znači \"velik\" ili \"mali\" broj *loss* funkcije?\n",
    "\n",
    "Podsetnik: setite se kako je funkcionisao *Metod najmanjih kvadrata* koji se radio na predmetu Numerički algoritmi i numerički softver. Porazmislite da li možete da izvučete neki koncept iz pomenute metode."
   ]
  },
  {
   "cell_type": "markdown",
   "metadata": {},
   "source": [
    "## Treniranje neuronske mreže\n",
    "Cilj treniranja je da dobijemo mrežu koja minimizuje *loss* funkciju. \n",
    "To znači da želimo da nađemo takve težine (i *bias*) neuronske mreže koje rezultuju najmanjom *loss* vrednosti.\n",
    "\n",
    "Da treniramo (obučimo) neuronsku mrežu treba nam poseban algoritam: gradijentni spust (gradient descent). Gradijentni spust koristi gradijent kako bi znao u kom pravcu loss funkcija raste, a kom opada. Cilj je pomeriti težine neuronske mreže u pravcu gradijenta jer u tom pravcu funkcija opada.\n",
    "\n",
    "Kako da izračunamo gradijent? Za to koristimo propagaciju unazad (*backpropagation*).\n",
    "Na sledećem terminu ćemo detaljnije pogledati pomenute algoritme."
   ]
  },
  {
   "cell_type": "markdown",
   "metadata": {},
   "source": [
    "## *Neural network playground*\n",
    "Da bismo stekli širu sliku i intuiciju kako neuronske mreže funkcionišu, posetite sledeći [sajt](https://playground.tensorflow.org/).\n",
    "\n",
    "Na ovom sajtu treba ispitati par stvari:\n",
    "1. reset dugme - kako se težine inicijalizuju? Kakav to uticaj ima na rezultat treniranja?\n",
    "1. Probajte da rešite 1. i 3. problem sa 0 skrivenih slojeva. \n",
    "1. Dodajte jedan sloj. Kakva je promena?\n",
    "1. Dodajte još jedan sloj i probajte da rešite problem 2. sa minimalnim broj neurona. Pogledajte vizualizaciju unutar neurona; šta može zaključiti šta je svaki neuron naučio?\n",
    "1. Šta se desi kada aktivacionu funkciju promenimo na *linear*? Da li možemo i jedan od 4 problem rešiti sa takvom aktivacionom funkcijom?\n",
    "1. Smanjimo broj slojeva na 1 i broj neurona na 4. Promenite aktivacione funkcije i zapazite šta se promenilo?\n",
    "1. Probajte različte vrednosti za learning rate (brzinu učenja). Kako promena tog hiperparametra menja proces?\n",
    "1. Pogledajte trening i test loss vrednosti.\n",
    "1. Promenite zadatak na regresioni umesto klasifikacioni i treniranje ponovo mrežu. Probajte različite parametre.\n",
    "1. Kakva obeležja (*features*) nam trebaju? Kakav je uticaj dodatnih osobina na neuronsku mrežu?"
   ]
  }
 ],
 "metadata": {
  "language_info": {
   "name": "python"
  }
 },
 "nbformat": 4,
 "nbformat_minor": 2
}
