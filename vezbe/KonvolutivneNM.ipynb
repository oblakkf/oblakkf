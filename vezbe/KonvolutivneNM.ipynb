{
  "cells": [
    {
      "cell_type": "markdown",
      "metadata": {
        "id": "NPDZYFeXVtDO"
      },
      "source": [
        "# Konvolutivne neuronske mreže"
      ]
    },
    {
      "cell_type": "markdown",
      "metadata": {
        "id": "IwlETr2Sb3R5"
      },
      "source": [
        "Slojevi konvolutivnih mreža:\n",
        "\n",
        "\n",
        "1.   Konvolutivni sloj (engl. *Convolution layer*)\n",
        "2.   Sloj sažimanja (engl. *Pooling layer*)\n",
        "3.   Potpuno povezan sloj (engl. *Fully connected layer*)\n"
      ]
    },
    {
      "cell_type": "markdown",
      "metadata": {
        "id": "flZc2MObeg8d"
      },
      "source": [
        "Iako se konvolutivne neuronske mreže najčešće dovode u kontekst sa problemima računarske vizije, važno je napomeuti da pronalaze svoje primene i u drugim oblastima poput obrade prirodnog jezika, analize zvuka i druge."
      ]
    },
    {
      "cell_type": "markdown",
      "metadata": {
        "id": "HeUtACqwfxEe"
      },
      "source": [
        "## Konvolutivni sloj\n",
        "\n",
        "Pre nego što objasnimo konvolutivni sloj, potrebno je da razumemo kovoluciju, po kojoj je ova vrsta neuronske mreže dobila ime.\n",
        "\n",
        "### Konvolucija\n",
        "Konvolucija je matematički operator koji od dve funkcije f i g, proizvodi treću koja predstavlja količinu preklapanja između okrenute i prevedene verzije funkcije g i funkcije f.\n",
        "$$ (f * g)(x) = \\int_{-\\infty}^{\\infty} f(t) \\cdot g(x - t) \\, dt $$\n",
        "\n",
        "<div style=\"text-align:center\">\n",
        "   <img src=\"imgs/konvolucija.gif\" style='width:90%; max-width:30rem'/>\n",
        "</div>\n",
        "\n",
        "### 2D konvolucija\n",
        "<img style=\"float:right; max-width:550px\" src=\"imgs/2d_konvolucija.gif\" width=\"80%\" />\n",
        "\n",
        "Diskretni 2D operator konvolucije predstavlja skalarni proizvod konvolucionog kernela sa delom slike nad kojim se vrši konvolucija.\n"
      ]
    },
    {
      "cell_type": "markdown",
      "metadata": {
        "id": "egvOk2Cxm3Mv"
      },
      "source": [
        "### Šta to predstavlja za slike?\n",
        "Sobelov operator se primenjuje za detekciju ivica na fotografiji, pri čemu koristi konvoluciju dva kernela (filtera) - horizontalnog i vertikalnog.\n",
        "\n",
        "<div style=\"text-align:center\">\n",
        "   <img src=\"imgs/sobel.png\" style='width:90%; max-width:30rem'/>\n",
        "</div>\n",
        "\n",
        "\n",
        "Umesto da filtere ručno kreiramo kako bismo izvukli relevantne osobine slike, konvolutivni slojevi, tokom procesa obučavanja, uče koji su optimalni filteri. Izlaz konvolutivnog sloja je N mapa osobina (engl. *feature maps*), gde N predstavlja broj filtera koji konvolutivni sloj koristi.\n",
        "\n",
        "<div style=\"text-align:center\">\n",
        "   <img src=\"imgs/konvolutivni_sloj.jpg\" style='width:90%; max-width:50rem'/>\n",
        "</div>"
      ]
    },
    {
      "cell_type": "markdown",
      "metadata": {
        "id": "EehpLAieNZ-Z"
      },
      "source": [
        "Nakon konvolutivnog sloja može postojati aktivaciona funkcija.\n",
        "\n",
        "<div style=\"text-align:center\">\n",
        "   <img src=\"imgs/RELU.jpg\" style='width:90%; max-width:30rem'/>\n",
        "</div>"
      ]
    },
    {
      "cell_type": "markdown",
      "metadata": {
        "id": "zBbts71om3Mw"
      },
      "source": [
        "Od čega zavise dimenzije izlaza konvolutivnog sloja?\n",
        "\n",
        "1.   Broja filtera\n",
        "2.   Koraka pri procesu konvolucije (engl. *stride*)\n",
        "3.   Upotrebe *padding*-a\n",
        "\n",
        "### Korak konvolucije - Stride\n",
        "Predstavlja korak kojim pomeramo kernel prilikom računanja skalaranog proizvoda. U primeru ispod vidimo da je korak 1 zato što se kernel pomera za 1 mesto nakon čega računa skalarni proizvod.\n",
        "\n",
        "\n",
        "<img style=\"float:right; max-width:400px\" src=\"imgs/zero_padding.gif\" width=\"70%\" />\n",
        "\n",
        "### Padding\n",
        "\n",
        "Proces konvolucije nije moguće izvršiti za ivične piksele, rezultat toga je smanjenje dimenzija slike i gubitak informacija. Upotreba *padding*-a rešava ovaj problem dodavanjem dodatnih piksela oko ivica ulazne slike pre primene konvolucije. Postoji više načina na osnovu kojih se određuju vrednosti dodatih piksela, jedan od njih je da su novododati pikseli sa vrednošću nula (engl. *zero-padding*)."
      ]
    },
    {
      "cell_type": "markdown",
      "metadata": {
        "id": "7IUl7bRMm3Mx"
      },
      "source": [
        "Ukoliko je ulaz u konvolutivni sloj, slika dimenzija 100x100x3 (RGB slika) i ukoliko taj sloj poseduje 4 filtera dimenzija 5x5x3, pri čemu je korak konvolucije 1 i prisutne je upotreba *padding*-a. Koje su dimenzije izlaza?\n",
        "\n",
        "<div style=\"text-align:center\">\n",
        "   <img src=\"imgs/konv_izlaz.png\" style='width:90%; max-width:50rem'/>\n",
        "</div>"
      ]
    },
    {
      "cell_type": "markdown",
      "metadata": {
        "id": "BszSXEk-Mzu3"
      },
      "source": [
        "### Vizualizacija obučenih slojeva\n",
        "\n",
        "<div style=\"text-align:center\">\n",
        "   <img src=\"imgs/v.png\" style='width:90%; max-width:50rem'/>\n",
        "</div>"
      ]
    },
    {
      "cell_type": "markdown",
      "metadata": {
        "id": "9aM2B4_gG8QO"
      },
      "source": [
        "## Sloj sažimanja\n",
        "\n",
        "<div style=\"text-align:center\">\n",
        "   <img src=\"imgs/pooling_sloj.jpg\" style='width:90%; max-width:50rem'/>\n",
        "</div>\n"
      ]
    },
    {
      "cell_type": "markdown",
      "metadata": {
        "id": "tyT15Cnym3My"
      },
      "source": [
        "<img style=\"float:right; max-width:450px\" src=\"imgs/pooling.png\" width=\"80%\" />\n",
        "\n",
        "Izvršava *downsampling* nad mapama osobina. Dodatno smanjuje broj parametara smanjivanjem veličine mapa osobina. U zavisnosti od funkcije koja se izvršava pri pomeraju filtera, razlikujemo:\n",
        "\n",
        "\n",
        "1.   Average pooling - prosek vrednosti\n",
        "2.   Max pooling - najveća vrednost\n",
        "\n",
        "Korišćenjem *pooling* slojeva, mreža može postati invarijantna na određene transformacije (npr. rotaciju, translaciju...). Zašto? *Pooling* slojevi zadržavaju relevantne informacije, bez obzira na tačnu lokaciju na slici.\n",
        "\n",
        "\n",
        "Ukoliko je slika 32x32x1 (*grayscale* slika) ulaz u ovaj sloj i ukoliko koristimo filter dimenzija 2x2, sa korakom 2, izlaz će rezultovati slikom 16x16x1 - 4 puta manje parametara!"
      ]
    },
    {
      "cell_type": "markdown",
      "metadata": {
        "id": "pUfQRgSGRcH1"
      },
      "source": [
        "## Potpuno povezan sloj\n",
        "<div style=\"text-align:center\">\n",
        "   <img src=\"imgs/klasifikacioni.jpg\" style='width:90%; max-width:50rem'/>\n",
        "</div>\n",
        "\n",
        "MLP - najobičniji višeslojni perceptron koji radi klasifikaciju"
      ]
    },
    {
      "cell_type": "markdown",
      "metadata": {
        "id": "d2dlhTHlVtDb"
      },
      "source": [
        "## Ilustrovan prikaz propagacije unapred\n",
        "\n",
        "<div style=\"text-align:center\">\n",
        "   <img src=\"imgs/t.jpg\" style='width:90%; max-width:50rem'/>\n",
        "</div>"
      ]
    },
    {
      "cell_type": "markdown",
      "metadata": {
        "id": "bJCsr2YIVk8z"
      },
      "source": [
        "## Konvolutivne neuronske mreže u PyTorch-u\n",
        "\n",
        "Preuzimanje skupa podataka"
      ]
    },
    {
      "cell_type": "code",
      "execution_count": 56,
      "metadata": {
        "id": "YbZaRjHOJsI4"
      },
      "outputs": [],
      "source": [
        "import torch\n",
        "import torchvision\n",
        "import torchvision.transforms as transforms\n",
        "device = torch.device('cuda' if torch.cuda.is_available() else 'cpu')\n",
        "\n",
        "# Transformacije koje ce biti primenjene na slike\n",
        "transform = torchvision.transforms.Compose([\n",
        "    transforms.ToTensor(),\n",
        "])\n",
        "batch_size = 128\n",
        "\n",
        "train = torchvision.datasets.MNIST(root='./data', train=True, download=True, transform=transform);\n",
        "test = torchvision.datasets.MNIST(root='./data', train=False, download=False, transform=transform);\n",
        "\n",
        "train_loader = torch.utils.data.DataLoader(train, batch_size=batch_size, shuffle=True)\n",
        "test_loader = torch.utils.data.DataLoader(test, batch_size=batch_size, shuffle=False)"
      ]
    },
    {
      "cell_type": "markdown",
      "metadata": {
        "id": "5kauO_bdVtDe"
      },
      "source": [
        "Kreiranje konvolutivne neuronske mreže"
      ]
    },
    {
      "cell_type": "code",
      "execution_count": 49,
      "metadata": {
        "id": "3Pk0yyNbVtDf"
      },
      "outputs": [],
      "source": [
        "import torch.nn as nn\n",
        "\n",
        "class CNN(nn.Module):\n",
        "    def __init__(self):\n",
        "        super(CNN, self).__init__()\n",
        "\n",
        "        self.feature_extraction = nn.Sequential(\n",
        "            #ulaz 28x28x1, izlaz 28x28x16\n",
        "            nn.Conv2d(\n",
        "                # slike su grayscale pa je broj kanala 1, da je slika RGB broj kanala bi bio 3\n",
        "                in_channels=1,\n",
        "                # broj izlaznih kanala, 16 filtera -> 16 mapa osobina (kanala)\n",
        "                out_channels=16,\n",
        "                kernel_size=5,\n",
        "                stride=1,\n",
        "                padding=2,\n",
        "            ),\n",
        "            nn.ReLU(),\n",
        "            # sloj sažimanja će promeniti prve dve dimenzije mapa osobina (visinu i širinu), ali ne i treću (broj kanala)\n",
        "            #ulaz 28x28x16, izlaz 14x14x16\n",
        "            nn.MaxPool2d(kernel_size=2),\n",
        "\n",
        "            # nije potrebno navođenje naziva argumenata, kao u kodu iznad, moguće je samo proslediti njihove vrednosti\n",
        "            #ulaz 14x14x16, izlaz 14x14x32\n",
        "            nn.Conv2d(16, 32, 5, 1, 2),\n",
        "            nn.ReLU(),\n",
        "            #ulaz 14x14x32, izlaz 7x7x32\n",
        "            nn.MaxPool2d(2),\n",
        "        )\n",
        "\n",
        "        self.flatten = nn.Flatten()\n",
        "\n",
        "        # potpuno povezan sloj\n",
        "        self.classification_head = nn.Linear(7*7*32, 10)\n",
        "\n",
        "    def forward(self, x):\n",
        "        x = self.feature_extraction(x)\n",
        "        # prebacivanje dimenzija izlaza feature_extraction sloja u (batch_size, 7*7*32) kako bi odgovaralo dimenzijama ulaza klasifikacionog sloja\n",
        "        x = self.flatten(x)\n",
        "        output = self.classification_head(x)\n",
        "        return output"
      ]
    },
    {
      "cell_type": "code",
      "execution_count": 50,
      "metadata": {
        "colab": {
          "base_uri": "https://localhost:8080/"
        },
        "id": "Xq4dskeUWNan",
        "outputId": "a7feee7d-eb36-4588-9efb-da60a2858e39"
      },
      "outputs": [
        {
          "output_type": "execute_result",
          "data": {
            "text/plain": [
              "CNN(\n",
              "  (feature_extraction): Sequential(\n",
              "    (0): Conv2d(1, 16, kernel_size=(5, 5), stride=(1, 1), padding=(2, 2))\n",
              "    (1): ReLU()\n",
              "    (2): MaxPool2d(kernel_size=2, stride=2, padding=0, dilation=1, ceil_mode=False)\n",
              "    (3): Conv2d(16, 32, kernel_size=(5, 5), stride=(1, 1), padding=(2, 2))\n",
              "    (4): ReLU()\n",
              "    (5): MaxPool2d(kernel_size=2, stride=2, padding=0, dilation=1, ceil_mode=False)\n",
              "  )\n",
              "  (flatten): Flatten(start_dim=1, end_dim=-1)\n",
              "  (classification_head): Linear(in_features=1568, out_features=10, bias=True)\n",
              ")"
            ]
          },
          "metadata": {},
          "execution_count": 50
        }
      ],
      "source": [
        "cnn = CNN()\n",
        "cnn.to(device)"
      ]
    },
    {
      "cell_type": "markdown",
      "metadata": {
        "id": "KYVZiNszVtDg"
      },
      "source": [
        "Definisanje funkcije gubitka"
      ]
    },
    {
      "cell_type": "code",
      "execution_count": 51,
      "metadata": {
        "id": "s3UEaBTEm3M3"
      },
      "outputs": [],
      "source": [
        "loss_func = nn.CrossEntropyLoss()"
      ]
    },
    {
      "cell_type": "markdown",
      "metadata": {
        "id": "BZXmXJfbm3M3"
      },
      "source": [
        "Definisanje optimajzera"
      ]
    },
    {
      "cell_type": "code",
      "execution_count": 52,
      "metadata": {
        "id": "VhuoQhkqm3M3"
      },
      "outputs": [],
      "source": [
        "from torch import optim\n",
        "optimizer = optim.Adam(cnn.parameters(), lr = 0.00001)"
      ]
    },
    {
      "cell_type": "markdown",
      "metadata": {
        "id": "rvaOdheuVtDh"
      },
      "source": [
        "Obučavanje modela"
      ]
    },
    {
      "cell_type": "code",
      "execution_count": 53,
      "metadata": {
        "colab": {
          "base_uri": "https://localhost:8080/"
        },
        "id": "_XX4nsIkVtDh",
        "outputId": "9426a426-91a6-46f2-92e0-4974a13056a2"
      },
      "outputs": [
        {
          "output_type": "stream",
          "name": "stdout",
          "text": [
            "Epoch [1/10], Loss: 2.0679\n",
            "Epoch [2/10], Loss: 1.5410\n",
            "Epoch [3/10], Loss: 1.0444\n",
            "Epoch [4/10], Loss: 0.7276\n",
            "Epoch [5/10], Loss: 0.5546\n",
            "Epoch [6/10], Loss: 0.4508\n",
            "Epoch [7/10], Loss: 0.4569\n",
            "Epoch [8/10], Loss: 0.4835\n",
            "Epoch [9/10], Loss: 0.3770\n",
            "Epoch [10/10], Loss: 0.3100\n"
          ]
        }
      ],
      "source": [
        "num_epochs = 10\n",
        "for epoch in range(num_epochs):\n",
        "    for i, (images, labels) in enumerate(train_loader):\n",
        "\n",
        "        images = images.to(device)\n",
        "        labels = labels.to(device)\n",
        "\n",
        "        outputs = cnn(images)\n",
        "        loss = loss_func(outputs, labels)\n",
        "\n",
        "        optimizer.zero_grad()\n",
        "        loss.backward()\n",
        "        optimizer.step()\n",
        "\n",
        "    print(f'Epoch [{epoch+1}/{num_epochs}], Loss: { loss.item():.4f}')"
      ]
    },
    {
      "cell_type": "markdown",
      "metadata": {
        "id": "IDGzh1Q9VtDh"
      },
      "source": [
        "Evaluacija modela"
      ]
    },
    {
      "cell_type": "code",
      "execution_count": 54,
      "metadata": {
        "colab": {
          "base_uri": "https://localhost:8080/"
        },
        "id": "d1QuYgDIVtDi",
        "outputId": "78f9d043-bff4-462e-ef0e-55936aabc820"
      },
      "outputs": [
        {
          "output_type": "stream",
          "name": "stdout",
          "text": [
            "Accuracy of the network on the 50000 train images:90.47166666666666 %\n"
          ]
        }
      ],
      "source": [
        "def evaluate():\n",
        "    with torch.inference_mode():\n",
        "      correct = 0\n",
        "      total = 0\n",
        "      for images, labels in train_loader:\n",
        "          images = images.to(device)\n",
        "          labels = labels.to(device)\n",
        "          outputs = cnn(images)\n",
        "          _, predicted = torch.max(outputs.data, 1)\n",
        "          total += labels.size(0)\n",
        "          correct += (predicted == labels).sum().item()\n",
        "\n",
        "      print(f'Accuracy of the network on the 50000 train images:{ 100 * correct / total} %')\n",
        "\n",
        "evaluate()"
      ]
    },
    {
      "cell_type": "markdown",
      "metadata": {
        "id": "Ar-aTnKhVtDi"
      },
      "source": [
        "Prikaz klasifikacije  10 primera iz test skupa"
      ]
    },
    {
      "cell_type": "code",
      "execution_count": 55,
      "metadata": {
        "colab": {
          "base_uri": "https://localhost:8080/"
        },
        "id": "ayXlCtlMVtDj",
        "outputId": "78d82f37-327b-490d-dd29-34e47827dd82"
      },
      "outputs": [
        {
          "output_type": "stream",
          "name": "stdout",
          "text": [
            "Prediction number: [7 2 1 0 4 1 4 9 5 9]\n",
            "Actual number: [7 2 1 0 4 1 4 9 5 9]\n"
          ]
        }
      ],
      "source": [
        "sample = next(iter(test_loader))\n",
        "imgs, lbls = sample\n",
        "imgs, lbls = imgs.to(device), lbls.to(device)\n",
        "\n",
        "test_output = cnn(imgs[:10])\n",
        "pred_y = torch.argmax(test_output, 1).cpu().numpy().squeeze()\n",
        "actual_number = lbls[:10].cpu().numpy()\n",
        "\n",
        "print(f'Prediction number: {pred_y}')\n",
        "print(f'Actual number: {actual_number}')"
      ]
    }
  ],
  "metadata": {
    "accelerator": "GPU",
    "colab": {
      "gpuType": "T4",
      "provenance": []
    },
    "kernelspec": {
      "display_name": "Python 3 (ipykernel)",
      "language": "python",
      "name": "python3"
    },
    "language_info": {
      "codemirror_mode": {
        "name": "ipython",
        "version": 3
      },
      "file_extension": ".py",
      "mimetype": "text/x-python",
      "name": "python",
      "nbconvert_exporter": "python",
      "pygments_lexer": "ipython3",
      "version": "3.10.8"
    }
  },
  "nbformat": 4,
  "nbformat_minor": 0
}