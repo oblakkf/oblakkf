{
 "cells": [
  {
   "cell_type": "markdown",
   "metadata": {
    "collapsed": false
   },
   "source": [
    "# Rekurentne neuronske mreže"
   ]
  },
  {
   "cell_type": "markdown",
   "metadata": {
    "collapsed": false
   },
   "source": [
    "Glavna karakteristika neuronskih mreža koje ste dosad videli, kao što su gusto povezane mreže i konvolutivne mreže, jeste da nemaju memoriju. Svaki ulazni podatak se obrađuje nezavisno, bez čuvanja stanja između ulaza. Ukoliko bismo hteli da obradimo sekvencijalne podatke, morali bismo čitavu sekvencu prikazati mreži odjednom: pretvoriti je u jedan podatak. Na primer, ukoliko bismo hteli da klasifikujemo video, sve slike iz videa bismo spojili u jednu veliku sliku, čime bismo izgubili njihovu vremensku zavisnost.\n",
    "\n",
    "Rekurentna neuronska mreža (RNN) obrađuje sekvencu iterirajući kroz njene elemente i pritom održavajući stanje koje sadrži informacije o tome šta je do sada videla. Stanje omogućava da RNN uči i razume kontekstualne zavisnosti u sekvencijalnim podacima, što je ključno za zadatke poput predviđanja vremensih serija, klasifikacije ili generisanja teksta.\n",
    "\n",
    "Na slici 1. prikazano je kako se sve može iskoristiti RNN za rad sa sekvencama, kao i razlika u odnosu na feed-forward mreže."
   ]
  },
  {
   "cell_type": "markdown",
   "metadata": {
    "collapsed": false
   },
   "source": [
    "<figure>\n",
    "  <img src=./img/rnn_arch.jpeg\" alt=\"RNN\" width=\"2048\">\n",
    "  <figcaption>Slika 1.</figcaption>\n",
    "</figure>\n",
    "<p>\n",
    "Svaki pravougaonik predstavlja vektor, a strelice predstavljaju funkcije (na primer, množenje matrica). Ulazni vektori su crveni, izlazni vektori su plavi, a zeleni vektori čuvaju stanje rekurentne neuronske mreže. Sleva nadesno:\n",
    "\n",
    "1) Osnovni način obrade bez rekurentne neuronske mreže (feed-forward), ulaz i izlaz su fiksne veličine (na primer, klasifikacija slika).\n",
    "2) Fiksan ulaz, sekvenca na izlazu (na primer, generisanje opisa na osnovu slike. Ulaz je slika, a izlaz lista reči koje je opisuju).\n",
    "3) Sekvenca na ulazu, fiksan izlaz (na primer, analiza sentimenta gde se data rečenica klasifikuje kao izražavanje pozitivnog ili negativnog sentimenta).\n",
    "4) Sekvence na ulazu i izlazu (na primer, mašinsko prevođenje sa jednog jezika na drugi).\n",
    "5) Sinhronizovana sekvenca ulaza i izlaza (na primer, klasifikacija videa gde želimo označiti svaki kadar videa).\n",
    "    </p>\n",
    "</p>"
   ]
  },
  {
   "cell_type": "markdown",
   "metadata": {
    "collapsed": false
   },
   "source": [
    "Na slici 2. prikazan je sloj rekurentne neuronske mreže u kompakntom i razvijenom obliku. Možemo primetiti da sloj rekurentne mreže ima dva izlaza i da se jedan od izlaza propagira u sledeći korak sa novim ulazom. Taj izlaz predstavlja skriveno stanje mreže.\n",
    "\n",
    "Pre nego što nastavimo, tebali bismo definisati simbole sa slike:\n",
    "1. $x$ - ulazna sekvenca (niz reči, niz slika,...)\n",
    "2. $h$ - skriveno stanje.\n",
    "3. $o$ - je izlaz, može biti jedna vrednost ili sekvenca\n",
    "4. $U$ - matrica težina na ulazu\n",
    "5. $W$ - matrica težina na skrivenom stanju\n",
    "6. $V$ - matrica težina na izlazu\n",
    "\n",
    "<figure>\n",
    "  <img src=\"./img/rnn.png\" alt=\"RNN unrolled\" width=\"1920\">\n",
    "  <figcaption>Slika 2.</figcaption>\n",
    "</figure>\n",
    "\n",
    "Kako bismo izračunali izlaze rekurentnog sloja, uvodimo tri matrice težina $U, W, V$. Matricu $U$ čine težine pridružene ulaznim podacima, dok matrice $W$ i $V$ čine težine pridružene podacima iz skrivenog sloja, a koriste se za računanje novog skrivenog sloja i izlaza, respektivno.\n",
    "\n",
    "Izlaz iz skrivenog sloja, u vremenskom trenutku t, računa se na sledeći način:\n",
    "$h_t = tanh(x_tU^T + b_{u} + h_{t-1}W^T + b_{w})$\n",
    "\n",
    "Ulaz u trenutku $t$, $x_t$ množi sa matricom $U$, čime mreža iz ulaza izdvaja ono što joj je potrebno. Takođe, izlaz iz skrivenog sloja u prethodnom koraku $h_{t-1}$ se množi sa matricom $W$, čime mreža prenosi informacija iz prethodnog stanja u trenutno. Na kraju se zbir ova dva množenja prosleđuje $tanh$ aktivacionoj funkciji, kako bismo uveli nelinearnost u sistem i takođe skalirali brojeve između $[-1,1]$.\n",
    "\n",
    "Izlaz iz sloja, u vremenskom trenutku t, računa se na sledeći način:\n",
    "$o_t = activation(h_tV^T + b_{V})$\n",
    "Izlaz iz trenutnog skrivenog sloja $h_{t}$ se množi sa matricom $V$ i prosleđuje aktivacionoj funkciji, čime mreža izlaz skrivenog sloja transformiše u izlaznu vrednost.\n"
   ]
  },
  {
   "cell_type": "markdown",
   "metadata": {
    "collapsed": false
   },
   "source": [
    "### Vannila RNN\n",
    "\n",
    "U ovom terminu vežbi ćemo implementirati tzv. \"Vanilla\" RNN, koji čini osnovni primer rekurentne mreže. Zbog problema koje mogu nastati prilikom treniranja ovog tipa mreže, u praksi se češće koriste nešto kompleksije varijacije rekurentnih mreža, kao što su LSTM i GRU."
   ]
  },
  {
   "cell_type": "markdown",
   "metadata": {
    "collapsed": false
   },
   "source": [
    "##### Definicija mreže\n",
    "Iskoristićemo *torch* biblioteku da definišemo sloj rekurentne neuronske mreže. Sloj definišemo kao torch modul koji kao parametre očekuje veličinu ulaza (input_size), veličinu skrivenog stanja (hidden size) i veličinu izlaza (output_size). Ove veličine koristimo prilikom definisanja slojeva u rekurentnoj neuronskoj mreži, koji predstavljaju matrice težina $U, W, V$ i aktivacionu funkciju; $i2h = U$, $h2h = W$, $h2o = V$.\n",
    "\n",
    "U funkciji $forward$ definišemo operacije nad definisanim slojevima u skladu sa formulama za $h_t$ i $o_t$."
   ]
  },
  {
   "cell_type": "code",
   "execution_count": 724,
   "metadata": {
    "collapsed": false
   },
   "outputs": [],
   "source": [
    "import torch\n",
    "import torch.nn as nn\n",
    "import torch.nn.functional as F\n",
    "\n",
    "\n",
    "class RNN(nn.Module):\n",
    "    def __init__(self, input_size, hidden_size, output_size):\n",
    "        super(RNN, self).__init__()\n",
    "\n",
    "        self.hidden_size = hidden_size # dimenzija skrivenog sloja\n",
    "        self.i2h = nn.Linear(input_size, hidden_size) # matrica U\n",
    "        self.h2h = nn.Linear(hidden_size, hidden_size) # matrica W\n",
    "        self.h2o = nn.Linear(hidden_size, output_size) # matrica V\n",
    "        self.softmax= nn.LogSoftmax(dim=1) # aktivaciona funkcija iskorišćena zbog klasifikacije imena\n",
    "\n",
    "    def forward(self, input, hidden=None):\n",
    "        if hidden is None: # ukoliko nije prosleđeno prethodno stanje, inicijalizuj stanje na 0 vektor\n",
    "            hidden = torch.zeros(1, self.hidden_size)\n",
    "\n",
    "        hidden = F.tanh(self.i2h(input) + self.h2h(hidden)) # računanje h_t\n",
    "        output = self.h2o(hidden) # računanje o_t\n",
    "        output = self.softmax(output) # računanje o_t\n",
    "        return output, hidden\n"
   ]
  },
  {
   "cell_type": "markdown",
   "metadata": {
    "collapsed": false
   },
   "source": [
    "# Primer: Klasifikacija imena\n",
    "\n",
    "U **names.csv** dat nam je skup ličnih imena i država čijeg su porekla, naš zadatak je da za dato ime odredimo državu kojoj pripada.\n",
    "\n",
    "Na početku, učitavamo podatke i ispisujemo nekoliko nasumičnih primera, kako bismo stekli utisak o tome kako nam skup podataka izgleda."
   ]
  },
  {
   "cell_type": "code",
   "execution_count": 725,
   "metadata": {
    "collapsed": false
   },
   "outputs": [
    {
     "data": {
      "text/html": [
       "<div>\n",
       "<style scoped>\n",
       "    .dataframe tbody tr th:only-of-type {\n",
       "        vertical-align: middle;\n",
       "    }\n",
       "\n",
       "    .dataframe tbody tr th {\n",
       "        vertical-align: top;\n",
       "    }\n",
       "\n",
       "    .dataframe thead th {\n",
       "        text-align: right;\n",
       "    }\n",
       "</style>\n",
       "<table border=\"1\" class=\"dataframe\">\n",
       "  <thead>\n",
       "    <tr style=\"text-align: right;\">\n",
       "      <th></th>\n",
       "      <th>language</th>\n",
       "      <th>name</th>\n",
       "    </tr>\n",
       "  </thead>\n",
       "  <tbody>\n",
       "    <tr>\n",
       "      <th>110</th>\n",
       "      <td>arabic</td>\n",
       "      <td>Basara</td>\n",
       "    </tr>\n",
       "    <tr>\n",
       "      <th>7481</th>\n",
       "      <td>german</td>\n",
       "      <td>Neuman</td>\n",
       "    </tr>\n",
       "    <tr>\n",
       "      <th>495</th>\n",
       "      <td>arabic</td>\n",
       "      <td>Hanania</td>\n",
       "    </tr>\n",
       "    <tr>\n",
       "      <th>5344</th>\n",
       "      <td>english</td>\n",
       "      <td>Meredith</td>\n",
       "    </tr>\n",
       "    <tr>\n",
       "      <th>8569</th>\n",
       "      <td>italian</td>\n",
       "      <td>Lecce</td>\n",
       "    </tr>\n",
       "  </tbody>\n",
       "</table>\n",
       "</div>"
      ],
      "text/plain": [
       "     language      name\n",
       "110    arabic    Basara\n",
       "7481   german    Neuman\n",
       "495    arabic   Hanania\n",
       "5344  english  Meredith\n",
       "8569  italian     Lecce"
      ]
     },
     "execution_count": 725,
     "metadata": {},
     "output_type": "execute_result"
    }
   ],
   "source": [
    "import pandas as pd\n",
    "\n",
    "# učitavamo skup podataka u pandas dataframe\n",
    "df = pd.read_csv(\"./data/names.csv\")\n",
    "\n",
    "# prikazujemo nasumično nekoliko primera iz skupa\n",
    "# funkcija sample na nasumičan način uzorkuje primere iz skupa, parametar frac definiše procenat primera koji želimo da uzorkujemo\n",
    "df.sample(frac=0.1).head()"
   ]
  },
  {
   "cell_type": "markdown",
   "metadata": {
    "collapsed": false
   },
   "source": [
    "Pošto rešavamo klasifikacioni problem, želimo da vidimo koje sve klase postoje. *Kod* ispod izvlači sve jezike i ispisuje ih zajedno sa ukupnim brojem jezika."
   ]
  },
  {
   "cell_type": "code",
   "execution_count": 726,
   "metadata": {
    "collapsed": false
   },
   "outputs": [
    {
     "name": "stdout",
     "output_type": "stream",
     "text": [
      "Broj jezika:  18\n",
      "Jezici:  ['arabic', 'chinese', 'czech', 'dutch', 'english', 'french', 'german', 'greek', 'irish', 'italian', 'japanese', 'korean', 'polish', 'portuguese', 'russian', 'scottish', 'spanish', 'vietnamese']\n"
     ]
    }
   ],
   "source": [
    "# Iz skupa preuzimamo skup svih jezika\n",
    "languages = sorted(df['language'].unique())\n",
    "num_of_labels = len(languages)\n",
    "\n",
    "print(\"Broj jezika: \", num_of_labels)\n",
    "print(\"Jezici: \", languages)"
   ]
  },
  {
   "cell_type": "markdown",
   "metadata": {
    "collapsed": false
   },
   "source": [
    "Nakon što smo izvukli broj klasa, želimo da saznamo koliko primera imamo po klasi. Time, saznajemo da li nam je skup podataka izbalansiran ili ne (da li ima sličan broj primera po klasi). U zavisnosti od toga da li je skup podataka izbalansiran ili ne, odlučujemo kako da izbalansiramo skup podataka i odlučujemo koje ćemo metrike performansi koristiti, tačnost, F1, itd."
   ]
  },
  {
   "cell_type": "code",
   "execution_count": 727,
   "metadata": {
    "collapsed": false
   },
   "outputs": [
    {
     "data": {
      "text/html": [
       "<div>\n",
       "<style scoped>\n",
       "    .dataframe tbody tr th:only-of-type {\n",
       "        vertical-align: middle;\n",
       "    }\n",
       "\n",
       "    .dataframe tbody tr th {\n",
       "        vertical-align: top;\n",
       "    }\n",
       "\n",
       "    .dataframe thead th {\n",
       "        text-align: right;\n",
       "    }\n",
       "</style>\n",
       "<table border=\"1\" class=\"dataframe\">\n",
       "  <thead>\n",
       "    <tr style=\"text-align: right;\">\n",
       "      <th></th>\n",
       "      <th>name</th>\n",
       "    </tr>\n",
       "    <tr>\n",
       "      <th>language</th>\n",
       "      <th></th>\n",
       "    </tr>\n",
       "  </thead>\n",
       "  <tbody>\n",
       "    <tr>\n",
       "      <th>arabic</th>\n",
       "      <td>2000</td>\n",
       "    </tr>\n",
       "    <tr>\n",
       "      <th>chinese</th>\n",
       "      <td>268</td>\n",
       "    </tr>\n",
       "    <tr>\n",
       "      <th>czech</th>\n",
       "      <td>519</td>\n",
       "    </tr>\n",
       "    <tr>\n",
       "      <th>dutch</th>\n",
       "      <td>297</td>\n",
       "    </tr>\n",
       "    <tr>\n",
       "      <th>english</th>\n",
       "      <td>3668</td>\n",
       "    </tr>\n",
       "    <tr>\n",
       "      <th>french</th>\n",
       "      <td>277</td>\n",
       "    </tr>\n",
       "    <tr>\n",
       "      <th>german</th>\n",
       "      <td>724</td>\n",
       "    </tr>\n",
       "    <tr>\n",
       "      <th>greek</th>\n",
       "      <td>203</td>\n",
       "    </tr>\n",
       "    <tr>\n",
       "      <th>irish</th>\n",
       "      <td>232</td>\n",
       "    </tr>\n",
       "    <tr>\n",
       "      <th>italian</th>\n",
       "      <td>709</td>\n",
       "    </tr>\n",
       "    <tr>\n",
       "      <th>japanese</th>\n",
       "      <td>991</td>\n",
       "    </tr>\n",
       "    <tr>\n",
       "      <th>korean</th>\n",
       "      <td>94</td>\n",
       "    </tr>\n",
       "    <tr>\n",
       "      <th>polish</th>\n",
       "      <td>139</td>\n",
       "    </tr>\n",
       "    <tr>\n",
       "      <th>portuguese</th>\n",
       "      <td>74</td>\n",
       "    </tr>\n",
       "    <tr>\n",
       "      <th>russian</th>\n",
       "      <td>9408</td>\n",
       "    </tr>\n",
       "    <tr>\n",
       "      <th>scottish</th>\n",
       "      <td>100</td>\n",
       "    </tr>\n",
       "    <tr>\n",
       "      <th>spanish</th>\n",
       "      <td>298</td>\n",
       "    </tr>\n",
       "    <tr>\n",
       "      <th>vietnamese</th>\n",
       "      <td>73</td>\n",
       "    </tr>\n",
       "  </tbody>\n",
       "</table>\n",
       "</div>"
      ],
      "text/plain": [
       "            name\n",
       "language        \n",
       "arabic      2000\n",
       "chinese      268\n",
       "czech        519\n",
       "dutch        297\n",
       "english     3668\n",
       "french       277\n",
       "german       724\n",
       "greek        203\n",
       "irish        232\n",
       "italian      709\n",
       "japanese     991\n",
       "korean        94\n",
       "polish       139\n",
       "portuguese    74\n",
       "russian     9408\n",
       "scottish     100\n",
       "spanish      298\n",
       "vietnamese    73"
      ]
     },
     "execution_count": 727,
     "metadata": {},
     "output_type": "execute_result"
    }
   ],
   "source": [
    "# Broj primera po jeziku\n",
    "# Vidimo da skup podataka nije izbalansiran\n",
    "df.groupby(\"language\").count()"
   ]
  },
  {
   "cell_type": "markdown",
   "metadata": {
    "collapsed": false
   },
   "source": [
    "Vidimo da skup podataka nije izbalansiran, što znači da bismo trebali da ga izbalansiramo na neki način i da koristimo F1 meru, a ne tačnost. Međutim, jednostavnosti radi, u ovom primeru se kao metrika se koristi tačnost, a o balansiranju će biti reči u nastavku."
   ]
  },
  {
   "cell_type": "markdown",
   "metadata": {
    "collapsed": false
   },
   "source": [
    "**Reprezentacija teksta**\n",
    "Nakon što smo se upoznali sa skupom podataka vreme je za definisanje vektorske reprezentacije teksta. U ovom primeru ćemo koristiti one-hot encoding reprezentaciju na nivou karaktera. One-hot encoding vektor sadrži vrednosti 0 i 1, gde se 1 nalazi na tačno jednom mestu, dok su ostale vrednosti 0. Veličina ovakvog vektora je definisana veličinom korišćenog vokabulara.\n",
    "\n",
    "Primer:\n",
    "Na osnovu vokabulara **['a', 'b', 'c', 'd']** kreirali bismo sledeće vektore:\n",
    "**a** = [1,0,0,0]\n",
    "**b** = [0,1,0,0]\n",
    "**c** = [0,0,1,0]\n",
    "**d** = [0,0,0,1]\n",
    "\n",
    "U ovom primeru, vokabular definišemo kao skup ASCII slova i nekoliko specijalnih karaktera. Veličina vokabulara biće iskorišćena za definisanje dimenzije one-hot encoding vektora, svakog karaktera u skupu podataka."
   ]
  },
  {
   "cell_type": "code",
   "execution_count": 728,
   "metadata": {
    "collapsed": false
   },
   "outputs": [],
   "source": [
    "import string\n",
    "\n",
    "# definisanje vokabulara (sadrži samo ASCII slova i \" .,;'\")\n",
    "vocab = string.ascii_letters + \" .,;'\"\n",
    "\n",
    "# veličina vektora je određena brojem karaktera u vokabularu\n",
    "vocab_size = len(vocab)\n"
   ]
  },
  {
   "cell_type": "code",
   "execution_count": 729,
   "metadata": {
    "collapsed": false
   },
   "outputs": [],
   "source": [
    "\"\"\"\n",
    "Pomoćne funkcije za transformaciju reči u tensor.\n",
    "\"\"\"\n",
    "def letter_to_index(letter):\n",
    "    \"\"\"\n",
    "    Vraća indeks karaktera u vokabularu.\n",
    "    :param letter: karakter\n",
    "    :return: indeks karaktera\n",
    "    \"\"\"\n",
    "    return vocab.find(letter)\n",
    "\n",
    "\n",
    "def letter_to_tensor(letter):\n",
    "    \"\"\"\n",
    "    Vraća one-hot encoding tensor od karaktera.\n",
    "    :param letter: karakter\n",
    "    :return: torch.Tensor\n",
    "    \"\"\"\n",
    "    tensor = torch.zeros(1, vocab_size)\n",
    "    tensor[0][letter_to_index(letter)] = 1\n",
    "    return tensor\n",
    "\n",
    "\n",
    "def line_to_tensor(line):\n",
    "    \"\"\"\n",
    "    Vraća listu one-hot encoding tensora za svaki karakter.\n",
    "    :param letter: karakter\n",
    "    :return: torch.Tensor\n",
    "    \"\"\"\n",
    "\n",
    "    tensor = torch.zeros(len(line), 1, vocab_size)\n",
    "    for li, letter in enumerate(line):\n",
    "        tensor[li][0][letter_to_index(letter)] = 1\n",
    "    return tensor\n",
    "\n",
    "\n",
    "def label_to_tensor(label, labels):\n",
    "    return torch.tensor([labels.index(label)], dtype=torch.long)\n",
    "\n",
    "\n",
    "def output_to_category(output):\n",
    "    top_n, top_i = output.topk(1)\n",
    "    category_i = top_i[0].item()\n",
    "    return languages[category_i], category_i\n"
   ]
  },
  {
   "cell_type": "markdown",
   "metadata": {
    "collapsed": false
   },
   "source": [
    "###### Primer korišćenja funkcije za transformaciju karaktera u tensor"
   ]
  },
  {
   "cell_type": "code",
   "execution_count": 730,
   "metadata": {
    "collapsed": false
   },
   "outputs": [
    {
     "name": "stdout",
     "output_type": "stream",
     "text": [
      "Indeks slova P:  41\n",
      "One-hot encoding slova P: \n",
      "tensor([[0., 0., 0., 0., 0., 0., 0., 0., 0., 0., 0., 0., 0., 0., 0., 0., 0., 0.,\n",
      "         0., 0., 0., 0., 0., 0., 0., 0., 0., 0., 0., 0., 0., 0., 0., 0., 0., 0.,\n",
      "         0., 0., 0., 0., 0., 1., 0., 0., 0., 0., 0., 0., 0., 0., 0., 0., 0., 0.,\n",
      "         0., 0., 0.]])\n",
      "Dimenzije tensora: torch.Size([1, 57])\n"
     ]
    }
   ],
   "source": [
    "print(\"Indeks slova P: \", letter_to_index(\"P\"))\n",
    "\n",
    "t = letter_to_tensor(\"P\")\n",
    "print(\"One-hot encoding slova P: \")\n",
    "print(t)\n",
    "print(\"Dimenzije tensora:\", letter_to_tensor(\"P\").size())"
   ]
  },
  {
   "cell_type": "markdown",
   "metadata": {
    "collapsed": false
   },
   "source": [
    "###### Primer korišćenja funkcije za transformaciju imena u tensor."
   ]
  },
  {
   "cell_type": "code",
   "execution_count": 731,
   "metadata": {
    "collapsed": false
   },
   "outputs": [
    {
     "name": "stdout",
     "output_type": "stream",
     "text": [
      "Tensor imena Pera\n",
      "Dimenzije tensora: torch.Size([4, 1, 57])\n",
      "tensor([[[0., 0., 0., 0., 0., 0., 0., 0., 0., 0., 0., 0., 0., 0., 0., 0., 0.,\n",
      "          0., 0., 0., 0., 0., 0., 0., 0., 0., 0., 0., 0., 0., 0., 0., 0., 0.,\n",
      "          0., 0., 0., 0., 0., 0., 0., 1., 0., 0., 0., 0., 0., 0., 0., 0., 0.,\n",
      "          0., 0., 0., 0., 0., 0.]],\n",
      "\n",
      "        [[0., 0., 0., 0., 1., 0., 0., 0., 0., 0., 0., 0., 0., 0., 0., 0., 0.,\n",
      "          0., 0., 0., 0., 0., 0., 0., 0., 0., 0., 0., 0., 0., 0., 0., 0., 0.,\n",
      "          0., 0., 0., 0., 0., 0., 0., 0., 0., 0., 0., 0., 0., 0., 0., 0., 0.,\n",
      "          0., 0., 0., 0., 0., 0.]],\n",
      "\n",
      "        [[0., 0., 0., 0., 0., 0., 0., 0., 0., 0., 0., 0., 0., 0., 0., 0., 0.,\n",
      "          1., 0., 0., 0., 0., 0., 0., 0., 0., 0., 0., 0., 0., 0., 0., 0., 0.,\n",
      "          0., 0., 0., 0., 0., 0., 0., 0., 0., 0., 0., 0., 0., 0., 0., 0., 0.,\n",
      "          0., 0., 0., 0., 0., 0.]],\n",
      "\n",
      "        [[1., 0., 0., 0., 0., 0., 0., 0., 0., 0., 0., 0., 0., 0., 0., 0., 0.,\n",
      "          0., 0., 0., 0., 0., 0., 0., 0., 0., 0., 0., 0., 0., 0., 0., 0., 0.,\n",
      "          0., 0., 0., 0., 0., 0., 0., 0., 0., 0., 0., 0., 0., 0., 0., 0., 0.,\n",
      "          0., 0., 0., 0., 0., 0.]]])\n"
     ]
    }
   ],
   "source": [
    "t = line_to_tensor(\"Pera\")\n",
    "print(\"Tensor imena Pera\")\n",
    "print(\"Dimenzije tensora:\", t.size())\n",
    "print(t)"
   ]
  },
  {
   "cell_type": "markdown",
   "metadata": {
    "collapsed": false
   },
   "source": [
    "###### Funkcija za pretvaranje Unicode karaktera u ASCII\n",
    "\n",
    "Pošto naš vokabular podržava samo ASCII karaktere, sve ostale karaktere želimo da pretvorimo u ASCII karaktere. Za to ćemo iskoristiti funkciju **unicode_to_ascii(s)**"
   ]
  },
  {
   "cell_type": "code",
   "execution_count": 732,
   "metadata": {
    "collapsed": false
   },
   "outputs": [],
   "source": [
    "import unicodedata\n",
    "def unicode_to_ascii(s):\n",
    "    \"\"\"\n",
    "    Pretvara prosleđeni utf-8 string u ASCII string.\n",
    "    :param s: utf-8 string\n",
    "    :return: ASII string\n",
    "    \"\"\"\n",
    "    return ''.join(\n",
    "        c for c in unicodedata.normalize('NFD', s)\n",
    "        if unicodedata.category(c) != 'Mn'\n",
    "        and c in vocab\n",
    "    )\n"
   ]
  },
  {
   "cell_type": "code",
   "execution_count": 733,
   "metadata": {
    "collapsed": false
   },
   "outputs": [],
   "source": [
    "# pretvaramo sve utf-8 karaktere u ascii karaktere pošto samo njih podržavamo u vokabularu\n",
    "df['name'] = df['name'].apply(lambda n: unicode_to_ascii(n))"
   ]
  },
  {
   "cell_type": "markdown",
   "metadata": {
    "collapsed": false
   },
   "source": [
    "###### Funkcija za kreiranje trening i validacionog skupa\n",
    "Definišemo funkciju kojom, prvo na slučajan način promešamo sve primere i zatim ih podelimo u dva skupa. Ove skupove ćemo koristiti kao trening i validacioni skup podataka."
   ]
  },
  {
   "cell_type": "code",
   "execution_count": null,
   "metadata": {
    "collapsed": false
   },
   "outputs": [],
   "source": [
    "def train_test_split(df, test_split):\n",
    "    train_size = len(df) - round(test_split * len(df))\n",
    "    df = df.sample(frac=1)\n",
    "    train = df[:train_size]\n",
    "    test = df[train_size:]\n",
    "\n",
    "    X_train = train['name'].apply(lambda n: line_to_tensor(n))\n",
    "    y_train = train['language'].apply(lambda l: label_to_tensor(l, languages))\n",
    "    X_test = test['name'].apply(lambda n: line_to_tensor(n))\n",
    "    y_test = test['language'].apply(lambda l: label_to_tensor(l, languages))\n",
    "\n",
    "    return X_train, y_train, X_test, y_test"
   ]
  },
  {
   "cell_type": "code",
   "execution_count": 734,
   "metadata": {
    "collapsed": false
   },
   "outputs": [],
   "source": [
    "# delimo podatke na trening i validacioni skup\n",
    "X_train, y_train, X_valid, y_valid = train_test_split(df, 0.2)"
   ]
  },
  {
   "cell_type": "markdown",
   "metadata": {
    "collapsed": false
   },
   "source": [
    "##### Dodeljivanje težina klasama\n",
    "Pošto skup podataka nije izbalansiran, da bismo ga izbalansirali svakoj klasi pridružujemo težinu, tako da klase sa manjim brojem primera imaju veću težinu, a one sa većim brojem primera, manju težinu. Na taj način govorimo mreži da više vrednuje ili kažnjava greške kod klasa sa manjim brojem primera, kako bi što bolje naučila njihovo ponašanje."
   ]
  },
  {
   "cell_type": "code",
   "execution_count": 741,
   "metadata": {
    "collapsed": false
   },
   "outputs": [
    {
     "data": {
      "text/plain": [
       "tensor([0.0005, 0.0037, 0.0019, 0.0034, 0.0003, 0.0036, 0.0014, 0.0049, 0.0043,\n",
       "        0.0014, 0.0010, 0.0106, 0.0072, 0.0135, 0.0001, 0.0100, 0.0034, 0.0137])"
      ]
     },
     "execution_count": 741,
     "metadata": {},
     "output_type": "execute_result"
    }
   ],
   "source": [
    "label_weight_map = df.groupby(\"language\").count().apply(lambda l: 1/l).to_dict()['name']\n",
    "label_weights = torch.tensor([label_weight_map[l] for l in languages])\n",
    "label_weights"
   ]
  },
  {
   "cell_type": "markdown",
   "metadata": {
    "collapsed": false
   },
   "source": [
    "##### Treniranje modela\n",
    "\n",
    "Da bismo trenirali model potrebno je da ga kreiramo, definišemo funkciju greške i optimizer. Za funkciju greške biramo **NLLLoss()**, koja se koristi prilikom višeklasne klasifikacije, a kao optimizer ćemo koristiti **Adam-a**."
   ]
  },
  {
   "cell_type": "code",
   "execution_count": 749,
   "metadata": {
    "collapsed": false
   },
   "outputs": [],
   "source": [
    "# veličina skrivenog sloja\n",
    "n_hidden = 128\n",
    "# broj epoha\n",
    "epochs = 5\n",
    "# learning rate\n",
    "lr = 0.005\n",
    "\n",
    "# definišemo funkciju greške\n",
    "loss_fn = nn.NLLLoss(weight=label_weights)\n",
    "\n",
    "# kreiramo model\n",
    "model = RNN(vocab_size, n_hidden, num_of_labels)\n",
    "\n",
    "# definišemo optimizer\n",
    "optimizer = torch.optim.Adam(params=model.parameters())"
   ]
  },
  {
   "cell_type": "markdown",
   "metadata": {
    "collapsed": false
   },
   "source": [
    "###### Funkcija za treniranje jedne sekvence\n",
    "\n",
    "1. Na početku se inicijalizuje skriveno stranje na None, što će prouzrokovati kreiranje 0 vektora za skriveno stanje i na taj način se resetuje skriveno stanje za svaki primer.\n",
    "2. Nakon toga, uklanjamo gradijente iz prethodnog koraka i počinjemo forward pass kroz sekvencu\n",
    "3. Nakon što model pozovemo nad svakim elementom sekvence, računamo grešku.\n",
    "4. Nakon računanje greške, radi se backward pass i ažuriraju se težine.\n"
   ]
  },
  {
   "cell_type": "code",
   "execution_count": 750,
   "metadata": {
    "collapsed": false
   },
   "outputs": [],
   "source": [
    "\"\"\"\n",
    "Funkcije za treniranje, predikciju i evaluaciju modela.\n",
    "\"\"\"\n",
    "\n",
    "def train(category_tensor: torch.Tensor, line_tensor: torch.Tensor):\n",
    "    hidden = None\n",
    "    model.train()\n",
    "    optimizer.zero_grad()\n",
    "    # line tensor\n",
    "    for i in range(line_tensor.size()[0]):\n",
    "        output, hidden = model(line_tensor[i], hidden)\n",
    "\n",
    "    loss = loss_fn(output, category_tensor)\n",
    "    loss.backward()\n",
    "\n",
    "    optimizer.step()\n",
    "\n",
    "    return output, loss.item()\n",
    "\n",
    "\n",
    "# funkcija radi forward pass kroz ime i vraća izlaz\n",
    "def predict(line_tensor):\n",
    "    model.eval()\n",
    "    hidden = None\n",
    "    for i in range(line_tensor.size()[0]):\n",
    "        output, hidden = model(line_tensor[i], hidden)\n",
    "\n",
    "    return output\n",
    "\n",
    "\n",
    "# funkcija računa tačnost modela\n",
    "def evaluate(X, y):\n",
    "    model.eval()\n",
    "    total_acc, total_count = 0, 0\n",
    "\n",
    "    for idx, (text, label) in enumerate(zip(X,y)):\n",
    "        predicted_label = predict(text)\n",
    "        a = (predicted_label.argmax(1) == label).sum().item()\n",
    "        total_acc += a\n",
    "        total_count += label.size(0)\n",
    "    return total_acc / total_count\n"
   ]
  },
  {
   "cell_type": "markdown",
   "metadata": {
    "collapsed": false
   },
   "source": [
    "##### Trening petlja\n",
    "\n",
    "U svakoj epohi dešava se sledeće:\n",
    "1. Za svaki primer u trening skupu radi se jedna iteracija, nakon koje se računa greška\n",
    "2. Greška se ispisuje na svakih 1000 iteracija\n",
    "3. Nakon što se prođe trening skup, računa se greška na validacionom skupu"
   ]
  },
  {
   "cell_type": "code",
   "execution_count": 751,
   "metadata": {
    "collapsed": false
   },
   "outputs": [
    {
     "name": "stdout",
     "output_type": "stream",
     "text": [
      "Epoch 0, Training loss 1.5903006613617763\n",
      "Epoch 0, Training loss 1.382766824531369\n",
      "Epoch 0, Training loss 1.2521564139841357\n",
      "Epoch 0, Training loss 1.1519633486109087\n",
      "Epoch 0, Training loss 1.1913611776842445\n",
      "Epoch 0, Training loss 1.1349184265287187\n",
      "Epoch 0, Training loss 1.0997411833814112\n",
      "Epoch 0, Training loss 1.1243477101399912\n",
      "Epoch 0, Training loss 1.0739969505233458\n",
      "Epoch 0, Training loss 1.0995024520609296\n",
      "Epoch 0, Training loss 1.0652575050143058\n",
      "Epoch 0, Training loss 1.0126738440281187\n",
      "Epoch 0, Training loss 1.0419710675138631\n",
      "Epoch 0, Training loss 0.9746550410466444\n",
      "Epoch 0, Training loss 1.063861818425299\n",
      "Epoch 0, Training loss 1.0213555213714134\n",
      "Epoch: 0, validation loss: 1.0334453088039945. Accuracy: 0.6901618929016189\n",
      "Epoch 1, Training loss 0.9846744964491517\n",
      "Epoch 1, Training loss 0.9416453259850095\n",
      "Epoch 1, Training loss 0.9355094778020575\n",
      "Epoch 1, Training loss 0.9591042774079251\n",
      "Epoch 1, Training loss 0.977234396329819\n",
      "Epoch 1, Training loss 0.9675450344018464\n",
      "Epoch 1, Training loss 0.9629610279311018\n",
      "Epoch 1, Training loss 0.9719145962610782\n",
      "Epoch 1, Training loss 0.9513760136244237\n",
      "Epoch 1, Training loss 0.945558133493003\n",
      "Epoch 1, Training loss 0.9903909205848468\n",
      "Epoch 1, Training loss 0.8818285559535725\n",
      "Epoch 1, Training loss 0.9267953993596894\n",
      "Epoch 1, Training loss 0.8772049090255314\n",
      "Epoch 1, Training loss 0.9622480570106563\n",
      "Epoch 1, Training loss 0.9362670932377223\n",
      "Epoch: 1, validation loss: 1.0005354076620003. Accuracy: 0.6961394769613948\n",
      "Epoch 2, Training loss 0.9145613139453926\n",
      "Epoch 2, Training loss 0.8362808899215451\n",
      "Epoch 2, Training loss 0.8400233228288271\n",
      "Epoch 2, Training loss 0.8641853230019187\n",
      "Epoch 2, Training loss 0.8702402453692047\n",
      "Epoch 2, Training loss 0.8759301690042194\n",
      "Epoch 2, Training loss 0.8633338735976868\n",
      "Epoch 2, Training loss 0.9025563826474682\n",
      "Epoch 2, Training loss 0.8828083825592766\n",
      "Epoch 2, Training loss 0.8630245322125848\n",
      "Epoch 2, Training loss 0.907030806477851\n",
      "Epoch 2, Training loss 0.797956934248563\n",
      "Epoch 2, Training loss 0.8860095090747927\n",
      "Epoch 2, Training loss 0.8174115987710029\n",
      "Epoch 2, Training loss 0.828991170077803\n",
      "Epoch 2, Training loss 0.8855946887769387\n",
      "Epoch: 2, validation loss: 0.9092348537678919. Accuracy: 0.7270236612702367\n",
      "Epoch 3, Training loss 0.8427805250742385\n",
      "Epoch 3, Training loss 0.7783067146375834\n",
      "Epoch 3, Training loss 0.8421674777075968\n",
      "Epoch 3, Training loss 0.8031164409231424\n",
      "Epoch 3, Training loss 0.8091015644455911\n",
      "Epoch 3, Training loss 0.8426696687882068\n",
      "Epoch 3, Training loss 0.7695521296447405\n",
      "Epoch 3, Training loss 0.856557578712338\n",
      "Epoch 3, Training loss 0.8376981443389959\n",
      "Epoch 3, Training loss 0.8587771162002755\n",
      "Epoch 3, Training loss 0.837624337363537\n",
      "Epoch 3, Training loss 0.7949862614183804\n",
      "Epoch 3, Training loss 0.834948930524537\n",
      "Epoch 3, Training loss 0.7966208747167112\n",
      "Epoch 3, Training loss 0.8077454151179845\n",
      "Epoch 3, Training loss 0.8258780889345653\n",
      "Epoch: 3, validation loss: 0.8398288984311569. Accuracy: 0.7544209215442093\n",
      "Epoch 4, Training loss 0.7917425348600882\n",
      "Epoch 4, Training loss 0.7353428321424362\n",
      "Epoch 4, Training loss 0.7797239667825706\n",
      "Epoch 4, Training loss 0.782350602932318\n",
      "Epoch 4, Training loss 0.7859872613542102\n",
      "Epoch 4, Training loss 0.7625240848631438\n",
      "Epoch 4, Training loss 0.7747266319226401\n",
      "Epoch 4, Training loss 0.7928549997528825\n",
      "Epoch 4, Training loss 0.7849123507851619\n",
      "Epoch 4, Training loss 0.8416000993534435\n",
      "Epoch 4, Training loss 0.8079342897007009\n",
      "Epoch 4, Training loss 0.7704613336414768\n",
      "Epoch 4, Training loss 0.790336938096123\n",
      "Epoch 4, Training loss 0.7602983903581481\n",
      "Epoch 4, Training loss 0.7980065363115136\n",
      "Epoch 4, Training loss 0.8009315391440032\n",
      "Epoch: 4, validation loss: 0.8198683087769361. Accuracy: 0.7471980074719801\n"
     ]
    }
   ],
   "source": [
    "plot_every = 1000\n",
    "all_losses = []\n",
    "current_loss = 0\n",
    "\n",
    "\n",
    "iter = 1\n",
    "for epoch in range(epochs):\n",
    "    model.train()\n",
    "\n",
    "    for idx, row in X_train.items():\n",
    "        output, loss = train(y_train[idx], row)\n",
    "        current_loss += loss\n",
    "        if iter % plot_every == 0:\n",
    "            all_losses.append(current_loss / plot_every)\n",
    "            print(f\"Epoch {epoch}, Training loss {current_loss/plot_every}\")\n",
    "            current_loss = 0\n",
    "        iter+=1\n",
    "\n",
    "    valid_loss = 0\n",
    "    accuracy = 0\n",
    "    total_count = 0\n",
    "\n",
    "    model.eval()\n",
    "\n",
    "    for idx, row in X_valid.items():\n",
    "        hidden = None\n",
    "\n",
    "        for i in range(row.size()[0]):\n",
    "            output, hidden = model(row[i], hidden)\n",
    "\n",
    "        loss = loss_fn(output, y_valid[idx])\n",
    "        valid_loss += loss.item()\n",
    "\n",
    "        accuracy += (output.argmax(1) == y_valid[idx]).sum().item()\n",
    "        total_count += y_valid[idx].size(0)\n",
    "\n",
    "    print(f\"Epoch: {epoch}, validation loss: {valid_loss/len(X_valid)}. Accuracy: {accuracy/total_count}\")"
   ]
  },
  {
   "cell_type": "markdown",
   "metadata": {
    "collapsed": false
   },
   "source": [
    "Nakon što smo završili obučavanje mreže, želimo da ispišemo kretanje greške, kako bismo saznali da li naša mreža uči."
   ]
  },
  {
   "cell_type": "code",
   "execution_count": 752,
   "metadata": {
    "collapsed": false
   },
   "outputs": [
    {
     "data": {
      "text/plain": [
       "[<matplotlib.lines.Line2D at 0x109216838b0>]"
      ]
     },
     "execution_count": 752,
     "metadata": {},
     "output_type": "execute_result"
    },
    {
     "data": {
      "image/png": "[encoded data removed]",
      "text/plain": [
       "<Figure size 640x480 with 1 Axes>"
      ]
     },
     "metadata": {},
     "output_type": "display_data"
    }
   ],
   "source": [
    "import matplotlib.pyplot as plt\n",
    "\n",
    "# Crtamo grafik kretanja loss funkcije kroz iteracije\n",
    "plt.figure()\n",
    "plt.plot(all_losses)"
   ]
  },
  {
   "cell_type": "markdown",
   "metadata": {
    "collapsed": false
   },
   "source": [
    "###### Pikaz predikcije jednog nasumičnog imena"
   ]
  },
  {
   "cell_type": "code",
   "execution_count": 753,
   "metadata": {
    "collapsed": false
   },
   "outputs": [],
   "source": [
    "output = predict(line_to_tensor(\"Leonardo\"))"
   ]
  },
  {
   "cell_type": "code",
   "execution_count": 754,
   "metadata": {
    "collapsed": false
   },
   "outputs": [
    {
     "data": {
      "text/plain": [
       "('spanish', 16)"
      ]
     },
     "execution_count": 754,
     "metadata": {},
     "output_type": "execute_result"
    }
   ],
   "source": [
    "output_to_category(output)"
   ]
  },
  {
   "cell_type": "markdown",
   "metadata": {
    "collapsed": false
   },
   "source": [
    "###### Računamo tačnost modela"
   ]
  },
  {
   "cell_type": "code",
   "execution_count": 755,
   "metadata": {
    "collapsed": false
   },
   "outputs": [
    {
     "data": {
      "text/plain": [
       "0.7471980074719801"
      ]
     },
     "execution_count": 755,
     "metadata": {},
     "output_type": "execute_result"
    }
   ],
   "source": [
    "accuracy = evaluate(X_valid, y_valid)\n",
    "accuracy"
   ]
  },
  {
   "cell_type": "markdown",
   "metadata": {
    "collapsed": false
   },
   "source": [
    "### Zadatak: Analiza vremenske serije\n",
    "\n",
    "Dat je skup podataka koji opisuje broj avio putnika na mesečnom nivou u periodu od januara 1949. do decembra 1960. Na osnovu godine i meseca potrebno je predvideti broj putnika u jedinicama od 1.000. Ovo je problem regresije. Drugim rečima, na osnovu broja putnika (u jedinicama od 1.000) u prethodnim mesecima, cilj je predvideti broj putnika u narednom mesecu. Skup podataka ima samo jednu osobinu: Broj putnika."
   ]
  },
  {
   "cell_type": "code",
   "execution_count": 757,
   "metadata": {
    "collapsed": false
   },
   "outputs": [
    {
     "data": {
      "image/png": "[encoded data removed]",
      "text/plain": [
       "<Figure size 640x480 with 1 Axes>"
      ]
     },
     "metadata": {},
     "output_type": "display_data"
    }
   ],
   "source": [
    "import pandas as pd\n",
    "df = pd.read_csv('data/airline-passengers.csv')\n",
    "timeseries = df[[\"Passengers\"]].values.astype('float32')\n",
    "\n",
    "plt.plot(timeseries)\n",
    "plt.show()"
   ]
  },
  {
   "cell_type": "markdown",
   "metadata": {
    "collapsed": false
   },
   "source": [
    "Data vam je pomoćna funkcija koja kreira sekvence sa *lookback* brojem elemenata. Na primer, ukoliko želite da gledate 3 meseca unazad, stavićete da lookback bude 3 i kao rezultat ćete dobiti niz primera sekvenci sa po 3 elementa."
   ]
  },
  {
   "cell_type": "code",
   "execution_count": 761,
   "metadata": {
    "collapsed": false
   },
   "outputs": [],
   "source": [
    "def create_dataset(dataset, lookback):\n",
    "    X, y = [], []\n",
    "    for i in range(len(dataset) - lookback):\n",
    "        feature = dataset[i:i + lookback]\n",
    "        target = dataset[i + 1:i + lookback + 1]\n",
    "        X.append(feature)\n",
    "        y.append(target)\n",
    "    return torch.tensor(X), torch.tensor(y)"
   ]
  },
  {
   "cell_type": "code",
   "execution_count": 764,
   "metadata": {
    "collapsed": false
   },
   "outputs": [
    {
     "data": {
      "text/plain": [
       "tensor([[[112.],\n",
       "         [118.],\n",
       "         [132.]],\n",
       "\n",
       "        [[118.],\n",
       "         [132.],\n",
       "         [129.]],\n",
       "\n",
       "        [[132.],\n",
       "         [129.],\n",
       "         [121.]],\n",
       "\n",
       "        [[129.],\n",
       "         [121.],\n",
       "         [135.]],\n",
       "\n",
       "        [[121.],\n",
       "         [135.],\n",
       "         [148.]],\n",
       "\n",
       "        [[135.],\n",
       "         [148.],\n",
       "         [148.]],\n",
       "\n",
       "        [[148.],\n",
       "         [148.],\n",
       "         [136.]],\n",
       "\n",
       "        [[148.],\n",
       "         [136.],\n",
       "         [119.]],\n",
       "\n",
       "        [[136.],\n",
       "         [119.],\n",
       "         [104.]],\n",
       "\n",
       "        [[119.],\n",
       "         [104.],\n",
       "         [118.]],\n",
       "\n",
       "        [[104.],\n",
       "         [118.],\n",
       "         [115.]],\n",
       "\n",
       "        [[118.],\n",
       "         [115.],\n",
       "         [126.]],\n",
       "\n",
       "        [[115.],\n",
       "         [126.],\n",
       "         [141.]],\n",
       "\n",
       "        [[126.],\n",
       "         [141.],\n",
       "         [135.]],\n",
       "\n",
       "        [[141.],\n",
       "         [135.],\n",
       "         [125.]],\n",
       "\n",
       "        [[135.],\n",
       "         [125.],\n",
       "         [149.]],\n",
       "\n",
       "        [[125.],\n",
       "         [149.],\n",
       "         [170.]],\n",
       "\n",
       "        [[149.],\n",
       "         [170.],\n",
       "         [170.]],\n",
       "\n",
       "        [[170.],\n",
       "         [170.],\n",
       "         [158.]],\n",
       "\n",
       "        [[170.],\n",
       "         [158.],\n",
       "         [133.]],\n",
       "\n",
       "        [[158.],\n",
       "         [133.],\n",
       "         [114.]],\n",
       "\n",
       "        [[133.],\n",
       "         [114.],\n",
       "         [140.]],\n",
       "\n",
       "        [[114.],\n",
       "         [140.],\n",
       "         [145.]],\n",
       "\n",
       "        [[140.],\n",
       "         [145.],\n",
       "         [150.]],\n",
       "\n",
       "        [[145.],\n",
       "         [150.],\n",
       "         [178.]],\n",
       "\n",
       "        [[150.],\n",
       "         [178.],\n",
       "         [163.]],\n",
       "\n",
       "        [[178.],\n",
       "         [163.],\n",
       "         [172.]],\n",
       "\n",
       "        [[163.],\n",
       "         [172.],\n",
       "         [178.]],\n",
       "\n",
       "        [[172.],\n",
       "         [178.],\n",
       "         [199.]],\n",
       "\n",
       "        [[178.],\n",
       "         [199.],\n",
       "         [199.]],\n",
       "\n",
       "        [[199.],\n",
       "         [199.],\n",
       "         [184.]],\n",
       "\n",
       "        [[199.],\n",
       "         [184.],\n",
       "         [162.]],\n",
       "\n",
       "        [[184.],\n",
       "         [162.],\n",
       "         [146.]],\n",
       "\n",
       "        [[162.],\n",
       "         [146.],\n",
       "         [166.]],\n",
       "\n",
       "        [[146.],\n",
       "         [166.],\n",
       "         [171.]],\n",
       "\n",
       "        [[166.],\n",
       "         [171.],\n",
       "         [180.]],\n",
       "\n",
       "        [[171.],\n",
       "         [180.],\n",
       "         [193.]],\n",
       "\n",
       "        [[180.],\n",
       "         [193.],\n",
       "         [181.]],\n",
       "\n",
       "        [[193.],\n",
       "         [181.],\n",
       "         [183.]],\n",
       "\n",
       "        [[181.],\n",
       "         [183.],\n",
       "         [218.]],\n",
       "\n",
       "        [[183.],\n",
       "         [218.],\n",
       "         [230.]],\n",
       "\n",
       "        [[218.],\n",
       "         [230.],\n",
       "         [242.]],\n",
       "\n",
       "        [[230.],\n",
       "         [242.],\n",
       "         [209.]],\n",
       "\n",
       "        [[242.],\n",
       "         [209.],\n",
       "         [191.]],\n",
       "\n",
       "        [[209.],\n",
       "         [191.],\n",
       "         [172.]],\n",
       "\n",
       "        [[191.],\n",
       "         [172.],\n",
       "         [194.]],\n",
       "\n",
       "        [[172.],\n",
       "         [194.],\n",
       "         [196.]],\n",
       "\n",
       "        [[194.],\n",
       "         [196.],\n",
       "         [196.]],\n",
       "\n",
       "        [[196.],\n",
       "         [196.],\n",
       "         [236.]],\n",
       "\n",
       "        [[196.],\n",
       "         [236.],\n",
       "         [235.]],\n",
       "\n",
       "        [[236.],\n",
       "         [235.],\n",
       "         [229.]],\n",
       "\n",
       "        [[235.],\n",
       "         [229.],\n",
       "         [243.]],\n",
       "\n",
       "        [[229.],\n",
       "         [243.],\n",
       "         [264.]],\n",
       "\n",
       "        [[243.],\n",
       "         [264.],\n",
       "         [272.]],\n",
       "\n",
       "        [[264.],\n",
       "         [272.],\n",
       "         [237.]],\n",
       "\n",
       "        [[272.],\n",
       "         [237.],\n",
       "         [211.]],\n",
       "\n",
       "        [[237.],\n",
       "         [211.],\n",
       "         [180.]],\n",
       "\n",
       "        [[211.],\n",
       "         [180.],\n",
       "         [201.]],\n",
       "\n",
       "        [[180.],\n",
       "         [201.],\n",
       "         [204.]],\n",
       "\n",
       "        [[201.],\n",
       "         [204.],\n",
       "         [188.]],\n",
       "\n",
       "        [[204.],\n",
       "         [188.],\n",
       "         [235.]],\n",
       "\n",
       "        [[188.],\n",
       "         [235.],\n",
       "         [227.]],\n",
       "\n",
       "        [[235.],\n",
       "         [227.],\n",
       "         [234.]],\n",
       "\n",
       "        [[227.],\n",
       "         [234.],\n",
       "         [264.]],\n",
       "\n",
       "        [[234.],\n",
       "         [264.],\n",
       "         [302.]],\n",
       "\n",
       "        [[264.],\n",
       "         [302.],\n",
       "         [293.]],\n",
       "\n",
       "        [[302.],\n",
       "         [293.],\n",
       "         [259.]],\n",
       "\n",
       "        [[293.],\n",
       "         [259.],\n",
       "         [229.]],\n",
       "\n",
       "        [[259.],\n",
       "         [229.],\n",
       "         [203.]],\n",
       "\n",
       "        [[229.],\n",
       "         [203.],\n",
       "         [229.]],\n",
       "\n",
       "        [[203.],\n",
       "         [229.],\n",
       "         [242.]],\n",
       "\n",
       "        [[229.],\n",
       "         [242.],\n",
       "         [233.]],\n",
       "\n",
       "        [[242.],\n",
       "         [233.],\n",
       "         [267.]],\n",
       "\n",
       "        [[233.],\n",
       "         [267.],\n",
       "         [269.]],\n",
       "\n",
       "        [[267.],\n",
       "         [269.],\n",
       "         [270.]],\n",
       "\n",
       "        [[269.],\n",
       "         [270.],\n",
       "         [315.]],\n",
       "\n",
       "        [[270.],\n",
       "         [315.],\n",
       "         [364.]],\n",
       "\n",
       "        [[315.],\n",
       "         [364.],\n",
       "         [347.]],\n",
       "\n",
       "        [[364.],\n",
       "         [347.],\n",
       "         [312.]],\n",
       "\n",
       "        [[347.],\n",
       "         [312.],\n",
       "         [274.]],\n",
       "\n",
       "        [[312.],\n",
       "         [274.],\n",
       "         [237.]],\n",
       "\n",
       "        [[274.],\n",
       "         [237.],\n",
       "         [278.]],\n",
       "\n",
       "        [[237.],\n",
       "         [278.],\n",
       "         [284.]],\n",
       "\n",
       "        [[278.],\n",
       "         [284.],\n",
       "         [277.]],\n",
       "\n",
       "        [[284.],\n",
       "         [277.],\n",
       "         [317.]],\n",
       "\n",
       "        [[277.],\n",
       "         [317.],\n",
       "         [313.]],\n",
       "\n",
       "        [[317.],\n",
       "         [313.],\n",
       "         [318.]],\n",
       "\n",
       "        [[313.],\n",
       "         [318.],\n",
       "         [374.]],\n",
       "\n",
       "        [[318.],\n",
       "         [374.],\n",
       "         [413.]],\n",
       "\n",
       "        [[374.],\n",
       "         [413.],\n",
       "         [405.]],\n",
       "\n",
       "        [[413.],\n",
       "         [405.],\n",
       "         [355.]],\n",
       "\n",
       "        [[405.],\n",
       "         [355.],\n",
       "         [306.]],\n",
       "\n",
       "        [[355.],\n",
       "         [306.],\n",
       "         [271.]],\n",
       "\n",
       "        [[306.],\n",
       "         [271.],\n",
       "         [306.]],\n",
       "\n",
       "        [[271.],\n",
       "         [306.],\n",
       "         [315.]],\n",
       "\n",
       "        [[306.],\n",
       "         [315.],\n",
       "         [301.]],\n",
       "\n",
       "        [[315.],\n",
       "         [301.],\n",
       "         [356.]],\n",
       "\n",
       "        [[301.],\n",
       "         [356.],\n",
       "         [348.]],\n",
       "\n",
       "        [[356.],\n",
       "         [348.],\n",
       "         [355.]],\n",
       "\n",
       "        [[348.],\n",
       "         [355.],\n",
       "         [422.]],\n",
       "\n",
       "        [[355.],\n",
       "         [422.],\n",
       "         [465.]],\n",
       "\n",
       "        [[422.],\n",
       "         [465.],\n",
       "         [467.]],\n",
       "\n",
       "        [[465.],\n",
       "         [467.],\n",
       "         [404.]],\n",
       "\n",
       "        [[467.],\n",
       "         [404.],\n",
       "         [347.]],\n",
       "\n",
       "        [[404.],\n",
       "         [347.],\n",
       "         [305.]],\n",
       "\n",
       "        [[347.],\n",
       "         [305.],\n",
       "         [336.]],\n",
       "\n",
       "        [[305.],\n",
       "         [336.],\n",
       "         [340.]],\n",
       "\n",
       "        [[336.],\n",
       "         [340.],\n",
       "         [318.]],\n",
       "\n",
       "        [[340.],\n",
       "         [318.],\n",
       "         [362.]],\n",
       "\n",
       "        [[318.],\n",
       "         [362.],\n",
       "         [348.]],\n",
       "\n",
       "        [[362.],\n",
       "         [348.],\n",
       "         [363.]],\n",
       "\n",
       "        [[348.],\n",
       "         [363.],\n",
       "         [435.]],\n",
       "\n",
       "        [[363.],\n",
       "         [435.],\n",
       "         [491.]],\n",
       "\n",
       "        [[435.],\n",
       "         [491.],\n",
       "         [505.]],\n",
       "\n",
       "        [[491.],\n",
       "         [505.],\n",
       "         [404.]],\n",
       "\n",
       "        [[505.],\n",
       "         [404.],\n",
       "         [359.]],\n",
       "\n",
       "        [[404.],\n",
       "         [359.],\n",
       "         [310.]],\n",
       "\n",
       "        [[359.],\n",
       "         [310.],\n",
       "         [337.]],\n",
       "\n",
       "        [[310.],\n",
       "         [337.],\n",
       "         [360.]],\n",
       "\n",
       "        [[337.],\n",
       "         [360.],\n",
       "         [342.]],\n",
       "\n",
       "        [[360.],\n",
       "         [342.],\n",
       "         [406.]],\n",
       "\n",
       "        [[342.],\n",
       "         [406.],\n",
       "         [396.]],\n",
       "\n",
       "        [[406.],\n",
       "         [396.],\n",
       "         [420.]],\n",
       "\n",
       "        [[396.],\n",
       "         [420.],\n",
       "         [472.]],\n",
       "\n",
       "        [[420.],\n",
       "         [472.],\n",
       "         [548.]],\n",
       "\n",
       "        [[472.],\n",
       "         [548.],\n",
       "         [559.]],\n",
       "\n",
       "        [[548.],\n",
       "         [559.],\n",
       "         [463.]],\n",
       "\n",
       "        [[559.],\n",
       "         [463.],\n",
       "         [407.]],\n",
       "\n",
       "        [[463.],\n",
       "         [407.],\n",
       "         [362.]],\n",
       "\n",
       "        [[407.],\n",
       "         [362.],\n",
       "         [405.]],\n",
       "\n",
       "        [[362.],\n",
       "         [405.],\n",
       "         [417.]],\n",
       "\n",
       "        [[405.],\n",
       "         [417.],\n",
       "         [391.]],\n",
       "\n",
       "        [[417.],\n",
       "         [391.],\n",
       "         [419.]],\n",
       "\n",
       "        [[391.],\n",
       "         [419.],\n",
       "         [461.]],\n",
       "\n",
       "        [[419.],\n",
       "         [461.],\n",
       "         [472.]],\n",
       "\n",
       "        [[461.],\n",
       "         [472.],\n",
       "         [535.]],\n",
       "\n",
       "        [[472.],\n",
       "         [535.],\n",
       "         [622.]],\n",
       "\n",
       "        [[535.],\n",
       "         [622.],\n",
       "         [606.]],\n",
       "\n",
       "        [[622.],\n",
       "         [606.],\n",
       "         [508.]],\n",
       "\n",
       "        [[606.],\n",
       "         [508.],\n",
       "         [461.]],\n",
       "\n",
       "        [[508.],\n",
       "         [461.],\n",
       "         [390.]]])"
      ]
     },
     "execution_count": 764,
     "metadata": {},
     "output_type": "execute_result"
    }
   ],
   "source": [
    "# prikazujemo samo prvi primer\n",
    "create_dataset(timeseries, 3)[0]"
   ]
  },
  {
   "cell_type": "markdown",
   "metadata": {
    "collapsed": false
   },
   "source": []
  }
 ],
 "metadata": {
  "kernelspec": {
   "display_name": "Python 3",
   "language": "python",
   "name": "python3"
  },
  "language_info": {
   "codemirror_mode": {
    "name": "ipython",
    "version": 2
   },
   "file_extension": ".py",
   "mimetype": "text/x-python",
   "name": "python",
   "nbconvert_exporter": "python",
   "pygments_lexer": "ipython2",
   "version": "2.7.6"
  }
 },
 "nbformat": 4,
 "nbformat_minor": 0
}
